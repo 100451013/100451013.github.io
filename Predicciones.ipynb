{
  "nbformat": 4,
  "nbformat_minor": 0,
  "metadata": {
    "colab": {
      "provenance": [],
      "authorship_tag": "ABX9TyMRtQhdWsZGChg/iVb1me8g",
      "include_colab_link": true
    },
    "kernelspec": {
      "name": "python3",
      "display_name": "Python 3"
    },
    "language_info": {
      "name": "python"
    }
  },
  "cells": [
    {
      "cell_type": "markdown",
      "metadata": {
        "id": "view-in-github",
        "colab_type": "text"
      },
      "source": [
        "<a href=\"https://colab.research.google.com/github/100451013/100451013.github.io/blob/main/Predicciones.ipynb\" target=\"_parent\"><img src=\"https://colab.research.google.com/assets/colab-badge.svg\" alt=\"Open In Colab\"/></a>"
      ]
    },
    {
      "cell_type": "markdown",
      "source": [
        "#Importación de librerías necesarias"
      ],
      "metadata": {
        "id": "ucOPJtPJfgOW"
      }
    },
    {
      "cell_type": "code",
      "execution_count": 7,
      "metadata": {
        "id": "xCIMGWxickzL"
      },
      "outputs": [],
      "source": [
        "import pandas as pd\n",
        "import numpy as np\n",
        "import joblib\n",
        "import matplotlib.pyplot as plt\n",
        "import seaborn as sns\n",
        "\n",
        "from sklearn.svm import SVC\n",
        "from sklearn.pipeline import Pipeline\n",
        "from sklearn.impute import SimpleImputer, KNNImputer\n",
        "from sklearn.preprocessing import OneHotEncoder, RobustScaler, LabelEncoder\n",
        "from sklearn.decomposition import PCA\n",
        "from sklearn.compose import ColumnTransformer\n",
        "from sklearn.model_selection import train_test_split\n",
        "from sklearn.metrics import accuracy_score, balanced_accuracy_score, classification_report, confusion_matrix, ConfusionMatrixDisplay\n",
        "from imblearn.over_sampling import SMOTE\n",
        "from google.colab import files"
      ]
    },
    {
      "cell_type": "markdown",
      "source": [
        "#Carga de datos y visualización inicial"
      ],
      "metadata": {
        "id": "_MRqMRk_fmFC"
      }
    },
    {
      "cell_type": "code",
      "source": [
        "print(\"🔼 Sube los archivos: 'attrition_availabledata_19.csv' y 'attrition_competition_19.csv'\")\n",
        "uploaded = files.upload()\n",
        "\n",
        "# Cargar datasets\n",
        "df_train = pd.read_csv(\"attrition_availabledata_19.csv\")\n",
        "df_competicion = pd.read_csv(\"attrition_competition_19.csv\")\n"
      ],
      "metadata": {
        "colab": {
          "base_uri": "https://localhost:8080/",
          "height": 125
        },
        "id": "ouAjzY64fpm6",
        "outputId": "4aa90b81-ff1f-464f-83a9-f535e6d98029"
      },
      "execution_count": 8,
      "outputs": [
        {
          "output_type": "stream",
          "name": "stdout",
          "text": [
            "🔼 Sube los archivos: 'attrition_availabledata_19.csv' y 'attrition_competition_19.csv'\n"
          ]
        },
        {
          "output_type": "display_data",
          "data": {
            "text/plain": [
              "<IPython.core.display.HTML object>"
            ],
            "text/html": [
              "\n",
              "     <input type=\"file\" id=\"files-d3da5a9f-6f1c-4872-8df8-69efd70a0739\" name=\"files[]\" multiple disabled\n",
              "        style=\"border:none\" />\n",
              "     <output id=\"result-d3da5a9f-6f1c-4872-8df8-69efd70a0739\">\n",
              "      Upload widget is only available when the cell has been executed in the\n",
              "      current browser session. Please rerun this cell to enable.\n",
              "      </output>\n",
              "      <script>// Copyright 2017 Google LLC\n",
              "//\n",
              "// Licensed under the Apache License, Version 2.0 (the \"License\");\n",
              "// you may not use this file except in compliance with the License.\n",
              "// You may obtain a copy of the License at\n",
              "//\n",
              "//      http://www.apache.org/licenses/LICENSE-2.0\n",
              "//\n",
              "// Unless required by applicable law or agreed to in writing, software\n",
              "// distributed under the License is distributed on an \"AS IS\" BASIS,\n",
              "// WITHOUT WARRANTIES OR CONDITIONS OF ANY KIND, either express or implied.\n",
              "// See the License for the specific language governing permissions and\n",
              "// limitations under the License.\n",
              "\n",
              "/**\n",
              " * @fileoverview Helpers for google.colab Python module.\n",
              " */\n",
              "(function(scope) {\n",
              "function span(text, styleAttributes = {}) {\n",
              "  const element = document.createElement('span');\n",
              "  element.textContent = text;\n",
              "  for (const key of Object.keys(styleAttributes)) {\n",
              "    element.style[key] = styleAttributes[key];\n",
              "  }\n",
              "  return element;\n",
              "}\n",
              "\n",
              "// Max number of bytes which will be uploaded at a time.\n",
              "const MAX_PAYLOAD_SIZE = 100 * 1024;\n",
              "\n",
              "function _uploadFiles(inputId, outputId) {\n",
              "  const steps = uploadFilesStep(inputId, outputId);\n",
              "  const outputElement = document.getElementById(outputId);\n",
              "  // Cache steps on the outputElement to make it available for the next call\n",
              "  // to uploadFilesContinue from Python.\n",
              "  outputElement.steps = steps;\n",
              "\n",
              "  return _uploadFilesContinue(outputId);\n",
              "}\n",
              "\n",
              "// This is roughly an async generator (not supported in the browser yet),\n",
              "// where there are multiple asynchronous steps and the Python side is going\n",
              "// to poll for completion of each step.\n",
              "// This uses a Promise to block the python side on completion of each step,\n",
              "// then passes the result of the previous step as the input to the next step.\n",
              "function _uploadFilesContinue(outputId) {\n",
              "  const outputElement = document.getElementById(outputId);\n",
              "  const steps = outputElement.steps;\n",
              "\n",
              "  const next = steps.next(outputElement.lastPromiseValue);\n",
              "  return Promise.resolve(next.value.promise).then((value) => {\n",
              "    // Cache the last promise value to make it available to the next\n",
              "    // step of the generator.\n",
              "    outputElement.lastPromiseValue = value;\n",
              "    return next.value.response;\n",
              "  });\n",
              "}\n",
              "\n",
              "/**\n",
              " * Generator function which is called between each async step of the upload\n",
              " * process.\n",
              " * @param {string} inputId Element ID of the input file picker element.\n",
              " * @param {string} outputId Element ID of the output display.\n",
              " * @return {!Iterable<!Object>} Iterable of next steps.\n",
              " */\n",
              "function* uploadFilesStep(inputId, outputId) {\n",
              "  const inputElement = document.getElementById(inputId);\n",
              "  inputElement.disabled = false;\n",
              "\n",
              "  const outputElement = document.getElementById(outputId);\n",
              "  outputElement.innerHTML = '';\n",
              "\n",
              "  const pickedPromise = new Promise((resolve) => {\n",
              "    inputElement.addEventListener('change', (e) => {\n",
              "      resolve(e.target.files);\n",
              "    });\n",
              "  });\n",
              "\n",
              "  const cancel = document.createElement('button');\n",
              "  inputElement.parentElement.appendChild(cancel);\n",
              "  cancel.textContent = 'Cancel upload';\n",
              "  const cancelPromise = new Promise((resolve) => {\n",
              "    cancel.onclick = () => {\n",
              "      resolve(null);\n",
              "    };\n",
              "  });\n",
              "\n",
              "  // Wait for the user to pick the files.\n",
              "  const files = yield {\n",
              "    promise: Promise.race([pickedPromise, cancelPromise]),\n",
              "    response: {\n",
              "      action: 'starting',\n",
              "    }\n",
              "  };\n",
              "\n",
              "  cancel.remove();\n",
              "\n",
              "  // Disable the input element since further picks are not allowed.\n",
              "  inputElement.disabled = true;\n",
              "\n",
              "  if (!files) {\n",
              "    return {\n",
              "      response: {\n",
              "        action: 'complete',\n",
              "      }\n",
              "    };\n",
              "  }\n",
              "\n",
              "  for (const file of files) {\n",
              "    const li = document.createElement('li');\n",
              "    li.append(span(file.name, {fontWeight: 'bold'}));\n",
              "    li.append(span(\n",
              "        `(${file.type || 'n/a'}) - ${file.size} bytes, ` +\n",
              "        `last modified: ${\n",
              "            file.lastModifiedDate ? file.lastModifiedDate.toLocaleDateString() :\n",
              "                                    'n/a'} - `));\n",
              "    const percent = span('0% done');\n",
              "    li.appendChild(percent);\n",
              "\n",
              "    outputElement.appendChild(li);\n",
              "\n",
              "    const fileDataPromise = new Promise((resolve) => {\n",
              "      const reader = new FileReader();\n",
              "      reader.onload = (e) => {\n",
              "        resolve(e.target.result);\n",
              "      };\n",
              "      reader.readAsArrayBuffer(file);\n",
              "    });\n",
              "    // Wait for the data to be ready.\n",
              "    let fileData = yield {\n",
              "      promise: fileDataPromise,\n",
              "      response: {\n",
              "        action: 'continue',\n",
              "      }\n",
              "    };\n",
              "\n",
              "    // Use a chunked sending to avoid message size limits. See b/62115660.\n",
              "    let position = 0;\n",
              "    do {\n",
              "      const length = Math.min(fileData.byteLength - position, MAX_PAYLOAD_SIZE);\n",
              "      const chunk = new Uint8Array(fileData, position, length);\n",
              "      position += length;\n",
              "\n",
              "      const base64 = btoa(String.fromCharCode.apply(null, chunk));\n",
              "      yield {\n",
              "        response: {\n",
              "          action: 'append',\n",
              "          file: file.name,\n",
              "          data: base64,\n",
              "        },\n",
              "      };\n",
              "\n",
              "      let percentDone = fileData.byteLength === 0 ?\n",
              "          100 :\n",
              "          Math.round((position / fileData.byteLength) * 100);\n",
              "      percent.textContent = `${percentDone}% done`;\n",
              "\n",
              "    } while (position < fileData.byteLength);\n",
              "  }\n",
              "\n",
              "  // All done.\n",
              "  yield {\n",
              "    response: {\n",
              "      action: 'complete',\n",
              "    }\n",
              "  };\n",
              "}\n",
              "\n",
              "scope.google = scope.google || {};\n",
              "scope.google.colab = scope.google.colab || {};\n",
              "scope.google.colab._files = {\n",
              "  _uploadFiles,\n",
              "  _uploadFilesContinue,\n",
              "};\n",
              "})(self);\n",
              "</script> "
            ]
          },
          "metadata": {}
        },
        {
          "output_type": "stream",
          "name": "stdout",
          "text": [
            "Saving attrition_availabledata_19.csv to attrition_availabledata_19 (2).csv\n",
            "Saving attrition_competition_19.csv to attrition_competition_19 (3).csv\n"
          ]
        }
      ]
    },
    {
      "cell_type": "markdown",
      "source": [
        "#Preprocesamiento del conjunto de entrenamiento"
      ],
      "metadata": {
        "id": "qu9yEnrJfrwV"
      }
    },
    {
      "cell_type": "code",
      "source": [
        "# Separación de variables independientes y objetivo\n",
        "X = df_train.drop(columns=[\"Attrition\"])\n",
        "y = df_train[\"Attrition\"]\n",
        "\n",
        "# Codificación de la variable objetivo\n",
        "y = le.fit_transform(y)\n",
        "\n",
        "# Detección de columnas numéricas y categóricas\n",
        "num_cols = X.select_dtypes(include=['float64', 'int64']).columns\n",
        "cat_cols = X.select_dtypes(include=['object']).columns\n",
        "\n",
        "# Imputación de valores faltantes\n",
        "imputer_num = SimpleImputer(strategy='mean')\n",
        "imputer_cat = SimpleImputer(strategy='most_frequent')\n",
        "X[num_cols] = imputer_num.fit_transform(X[num_cols])\n",
        "X[cat_cols] = imputer_cat.fit_transform(X[cat_cols])\n",
        "for col in cat_cols:\n",
        "    X[col] = LabelEncoder().fit_transform(X[col].astype(str))\n"
      ],
      "metadata": {
        "id": "fj1kz_ovftvk"
      },
      "execution_count": 9,
      "outputs": []
    },
    {
      "cell_type": "markdown",
      "source": [
        "#Preprocesamiento del conjunto de competición"
      ],
      "metadata": {
        "id": "nwxOZdnAfxjm"
      }
    },
    {
      "cell_type": "code",
      "source": [
        "X_competicion = df_competicion.copy()\n",
        "X_competicion[num_cols] = imputer_num.transform(X_competicion[num_cols])\n",
        "X_competicion[cat_cols] = imputer_cat.transform(X_competicion[cat_cols])\n",
        "for col in cat_cols:\n",
        "    X_competicion[col] = LabelEncoder().fit_transform(X_competicion[col].astype(str))\n"
      ],
      "metadata": {
        "id": "hOeq0CAefz69"
      },
      "execution_count": 10,
      "outputs": []
    },
    {
      "cell_type": "markdown",
      "source": [
        "#Construcción del pipeline de preprocesamiento + modelo"
      ],
      "metadata": {
        "id": "VihUP-PNmKCn"
      }
    },
    {
      "cell_type": "code",
      "source": [
        "# Transformador para variables categóricas\n",
        "cat_transformer = Pipeline([\n",
        "    ('imputer', SimpleImputer(strategy='most_frequent')),\n",
        "    ('onehot', OneHotEncoder(handle_unknown='ignore', sparse_output=False)),\n",
        "    ('pca', PCA(n_components=5))\n",
        "])\n",
        "\n",
        "# Transformador para variables numéricas\n",
        "num_transformer = Pipeline([\n",
        "    ('imputer', KNNImputer(n_neighbors=5)),\n",
        "    ('scaler', RobustScaler())\n",
        "])\n",
        "\n",
        "# Preprocesador general\n",
        "preprocessor = ColumnTransformer([\n",
        "    ('num', num_transformer, num_cols),\n",
        "    ('cat', cat_transformer, cat_cols)\n",
        "])\n",
        "\n",
        "# Definición del modelo con SVM\n",
        "modelo_final = Pipeline([\n",
        "    (\"preprocessor\", preprocessor),\n",
        "    (\"classifier\", SVC(class_weight=\"balanced\", probability=True, random_state=451013))\n",
        "])\n"
      ],
      "metadata": {
        "id": "umzIRYcsf5Cx"
      },
      "execution_count": 12,
      "outputs": []
    },
    {
      "cell_type": "markdown",
      "source": [
        "#Entrenamiento y evaluación en conjunto de validación"
      ],
      "metadata": {
        "id": "d1o0t6hkf7mb"
      }
    },
    {
      "cell_type": "code",
      "source": [
        "# Entrenar con datos balanceados por SMOTE\n",
        "modelo_final.fit(X_train_res, y_train_res)\n",
        "\n",
        "# Predecir en conjunto de validación\n",
        "y_val_pred = modelo_final.predict(X_val)\n",
        "\n",
        "# Reporte de métricas\n",
        "print(\"🔎 Classification Report (validación):\")\n",
        "print(classification_report(y_val, y_val_pred))\n",
        "\n",
        "# Balanced Accuracy\n",
        "bac = balanced_accuracy_score(y_val, y_val_pred)\n",
        "print(f\"🎯 Balanced Accuracy en validación: {bac:.4f}\")\n"
      ],
      "metadata": {
        "colab": {
          "base_uri": "https://localhost:8080/"
        },
        "id": "OsAws4ySf84T",
        "outputId": "1cfb9ba1-21ff-4b61-ccef-622fb07b2fba"
      },
      "execution_count": 13,
      "outputs": [
        {
          "output_type": "stream",
          "name": "stdout",
          "text": [
            "🔎 Classification Report (validación):\n",
            "              precision    recall  f1-score   support\n",
            "\n",
            "           0       0.95      0.91      0.93       493\n",
            "           1       0.62      0.73      0.67        95\n",
            "\n",
            "    accuracy                           0.88       588\n",
            "   macro avg       0.78      0.82      0.80       588\n",
            "weighted avg       0.89      0.88      0.89       588\n",
            "\n",
            "🎯 Balanced Accuracy en validación: 0.8206\n"
          ]
        }
      ]
    },
    {
      "cell_type": "markdown",
      "source": [
        "\n",
        "Este informe revela que el modelo tiene un rendimiento general bastante bueno, con un 88% de precisión al clasificar los datos de validación. Se destaca especialmente en la clase mayoritaria (clase 0), donde logra un F1-score de 0.93. Sin embargo, en la clase minoritaria (clase 1), el rendimiento no es tan alto, con un F1-score de 0.67, lo que sugiere que el modelo enfrenta más dificultades para identificar correctamente estos casos. A pesar de esto, la Balanced Accuracy de 0.82 muestra un desempeño razonablemente equilibrado entre ambas clases, considerando el desbalance en los datos."
      ],
      "metadata": {
        "id": "YCNv9Q_qk7nH"
      }
    },
    {
      "cell_type": "markdown",
      "source": [
        "#Visualización: Matriz de confusión\n"
      ],
      "metadata": {
        "id": "-Cb0nBVQf_81"
      }
    },
    {
      "cell_type": "code",
      "source": [
        "cm = confusion_matrix(y_val, y_val_pred)\n",
        "disp = ConfusionMatrixDisplay(confusion_matrix=cm, display_labels=[\"No\", \"Yes\"])\n",
        "disp.plot(cmap=\"Blues\")\n",
        "plt.title(\"Matriz de Confusión - Validación\")\n",
        "plt.show()\n"
      ],
      "metadata": {
        "colab": {
          "base_uri": "https://localhost:8080/",
          "height": 472
        },
        "id": "1uaR0mJqgDcL",
        "outputId": "fe5e6f05-ffff-4223-ec3f-1e0f34ca7216"
      },
      "execution_count": 14,
      "outputs": [
        {
          "output_type": "display_data",
          "data": {
            "text/plain": [
              "<Figure size 640x480 with 2 Axes>"
            ],
            "image/png": "[encoded data removed]"
          },
          "metadata": {}
        }
      ]
    },
    {
      "cell_type": "markdown",
      "source": [
        "#Entrenamiento"
      ],
      "metadata": {
        "id": "zeSW6oXhgGic"
      }
    },
    {
      "cell_type": "code",
      "source": [
        "# Entrenar el modelo final con todos los datos\n",
        "modelo_final.fit(X, y)\n",
        "\n",
        "# Guardar el modelo entrenado\n",
        "joblib.dump(modelo_final, \"modelo_final.pkl\")\n",
        "print(\"✅ Modelo final guardado como 'modelo_final.pkl'\")\n"
      ],
      "metadata": {
        "colab": {
          "base_uri": "https://localhost:8080/"
        },
        "id": "f65AyX6BgIM4",
        "outputId": "daf870ca-1ae8-48d5-c6fb-f2d2776084f9"
      },
      "execution_count": 15,
      "outputs": [
        {
          "output_type": "stream",
          "name": "stdout",
          "text": [
            "✅ Modelo final guardado como 'modelo_final.pkl'\n"
          ]
        }
      ]
    },
    {
      "cell_type": "markdown",
      "source": [
        "#Prediccion"
      ],
      "metadata": {
        "id": "JmwAGYjmgJ8z"
      }
    },
    {
      "cell_type": "code",
      "source": [
        "# Predecir sobre el conjunto de competición\n",
        "predicciones = modelo_final.predict(X_competicion)\n",
        "\n",
        "# Guardar las predicciones en un archivo CSV\n",
        "df_preds = pd.DataFrame(predicciones, columns=[\"Prediccion\"])\n",
        "df_preds.to_csv(\"predicciones.csv\", index=False)\n",
        "print(\"✅ Predicciones guardadas como 'predicciones.csv'\")\n"
      ],
      "metadata": {
        "colab": {
          "base_uri": "https://localhost:8080/"
        },
        "id": "5kWSbOwtgL2Y",
        "outputId": "4fc1a709-f783-4d39-9393-b210c4ea76d6"
      },
      "execution_count": 16,
      "outputs": [
        {
          "output_type": "stream",
          "name": "stdout",
          "text": [
            "✅ Predicciones guardadas como 'predicciones.csv'\n"
          ]
        }
      ]
    },
    {
      "cell_type": "markdown",
      "source": [
        "#Visualizacion predicciones"
      ],
      "metadata": {
        "id": "ySbLkki-lN9V"
      }
    },
    {
      "cell_type": "code",
      "source": [
        "# Mostrar primeras 10 predicciones\n",
        "print(\"🔮 Primeras 10 predicciones sobre el conjunto de competición:\")\n",
        "print(df_preds.head(10))\n",
        "\n",
        "# Mostrar distribución de predicciones\n",
        "print(\"\\n📊 Distribución general de predicciones:\")\n",
        "print(df_preds[\"Prediccion\"].value_counts())\n",
        "\n",
        "# Visualización rápida\n",
        "# Visualización sin warning\n",
        "sns.countplot(data=df_preds, x=\"Prediccion\", hue=\"Prediccion\", palette=\"Set2\", legend=False)\n",
        "plt.title(\"Distribución de predicciones (0 = No, 1 = Yes)\")\n",
        "plt.xlabel(\"Clase predicha\")\n",
        "plt.ylabel(\"Frecuencia\")\n",
        "plt.show()\n",
        "\n"
      ],
      "metadata": {
        "colab": {
          "base_uri": "https://localhost:8080/",
          "height": 784
        },
        "id": "0ZPB5T8llQQz",
        "outputId": "33cda3ae-a9d3-41fb-da8f-1b461a7a662e"
      },
      "execution_count": 18,
      "outputs": [
        {
          "output_type": "stream",
          "name": "stdout",
          "text": [
            "🔮 Primeras 10 predicciones sobre el conjunto de competición:\n",
            "   Prediccion\n",
            "0           0\n",
            "1           0\n",
            "2           0\n",
            "3           1\n",
            "4           1\n",
            "5           0\n",
            "6           0\n",
            "7           0\n",
            "8           0\n",
            "9           0\n",
            "\n",
            "📊 Distribución general de predicciones:\n",
            "Prediccion\n",
            "0    1125\n",
            "1     345\n",
            "Name: count, dtype: int64\n"
          ]
        },
        {
          "output_type": "display_data",
          "data": {
            "text/plain": [
              "<Figure size 640x480 with 1 Axes>"
            ],
            "image/png": "[encoded data removed]"
          },
          "metadata": {}
        }
      ]
    },
    {
      "cell_type": "markdown",
      "source": [
        "Visualizamos las diez primeras filas para ver si los resultados pordrían ser adecuados"
      ],
      "metadata": {
        "id": "G1DjaSavfYOS"
      }
    }
  ]
}